{
  "nbformat": 4,
  "nbformat_minor": 0,
  "metadata": {
    "colab": {
      "name": "Untitled",
      "provenance": [],
      "collapsed_sections": [],
      "authorship_tag": "ABX9TyOO8vYFZqhibFoae4I7h+2W",
      "include_colab_link": true
    },
    "kernelspec": {
      "name": "python3",
      "display_name": "Python 3"
    }
  },
  "cells": [
    {
      "cell_type": "markdown",
      "metadata": {
        "id": "view-in-github",
        "colab_type": "text"
      },
      "source": [
        "<a href=\"https://colab.research.google.com/github/priyasi345/toxiccontent_detection/blob/master/LSTMBi.ipynb\" target=\"_parent\"><img src=\"https://colab.research.google.com/assets/colab-badge.svg\" alt=\"Open In Colab\"/></a>"
      ]
    },
    {
      "cell_type": "code",
      "metadata": {
        "id": "oVpT9l0jjU-E",
        "colab_type": "code",
        "colab": {}
      },
      "source": [
        "\n",
        "import numpy as np \n",
        "import pandas as pd \n",
        "import os\n",
        "import spacy\n",
        "import string\n",
        "import re\n",
        "import numpy as np\n",
        "from spacy.symbols import ORTH\n",
        "from collections import Counter\n",
        "from pathlib import Path\n",
        "from sklearn.model_selection import train_test_split\n",
        "\n",
        "import warnings\n",
        "warnings.filterwarnings('ignore')\n",
        "\n",
        "import torch\n",
        "import torch.nn as nn\n",
        "import torch.nn.functional as F\n",
        "from torch.utils.data import Dataset, DataLoader\n",
        "from torch.nn.utils.rnn import pack_padded_sequence, pad_packed_sequence"
      ],
      "execution_count": 1,
      "outputs": []
    },
    {
      "cell_type": "code",
      "metadata": {
        "id": "VMrohl1CjZEl",
        "colab_type": "code",
        "colab": {
          "base_uri": "https://localhost:8080/",
          "height": 34
        },
        "outputId": "dd991e9b-4878-4314-b39b-752691327dd1"
      },
      "source": [
        "PATH = Path(\"/content/\")\n",
        "list(PATH.iterdir())"
      ],
      "execution_count": 2,
      "outputs": [
        {
          "output_type": "execute_result",
          "data": {
            "text/plain": [
              "[PosixPath('/content/.config'), PosixPath('/content/sample_data')]"
            ]
          },
          "metadata": {
            "tags": []
          },
          "execution_count": 2
        }
      ]
    },
    {
      "cell_type": "code",
      "metadata": {
        "id": "mJ90CTNJk_Fj",
        "colab_type": "code",
        "colab": {
          "base_uri": "https://localhost:8080/",
          "height": 50
        },
        "outputId": "44f522c9-6227-4c8f-8626-d8c9931447e4"
      },
      "source": [
        "!unzip '/content/test.csv (1).zip'"
      ],
      "execution_count": 4,
      "outputs": [
        {
          "output_type": "stream",
          "text": [
            "Archive:  /content/test.csv (1).zip\n",
            "  inflating: test.csv                \n"
          ],
          "name": "stdout"
        }
      ]
    },
    {
      "cell_type": "code",
      "metadata": {
        "id": "YBVFYCXBlBQy",
        "colab_type": "code",
        "colab": {
          "base_uri": "https://localhost:8080/",
          "height": 50
        },
        "outputId": "a2d1c3c0-d1dc-40a3-b678-1a6f6fade9a5"
      },
      "source": [
        "!unzip '/content/trainn.csv.zip'"
      ],
      "execution_count": 6,
      "outputs": [
        {
          "output_type": "stream",
          "text": [
            "Archive:  /content/trainn.csv.zip\n",
            "  inflating: train.csv               \n"
          ],
          "name": "stdout"
        }
      ]
    },
    {
      "cell_type": "code",
      "metadata": {
        "id": "f3T9kMoilEjP",
        "colab_type": "code",
        "colab": {
          "base_uri": "https://localhost:8080/",
          "height": 50
        },
        "outputId": "3ebbd56f-22b5-46c4-88ff-0ec860cd7b9e"
      },
      "source": [
        "!unzip '/content/sample_submission.csv (1).zip'"
      ],
      "execution_count": 5,
      "outputs": [
        {
          "output_type": "stream",
          "text": [
            "Archive:  /content/sample_submission.csv (1).zip\n",
            "  inflating: sample_submission.csv   \n"
          ],
          "name": "stdout"
        }
      ]
    },
    {
      "cell_type": "code",
      "metadata": {
        "id": "wiCPV7tBjiyK",
        "colab_type": "code",
        "colab": {}
      },
      "source": [
        "\n",
        "df_train = pd.read_csv(PATH/\"train.csv\")\n",
        "df_test = pd.read_csv(PATH/\"test.csv\")\n",
        "df_submission = pd.read_csv(PATH/\"sample_submission.csv\")"
      ],
      "execution_count": 7,
      "outputs": []
    },
    {
      "cell_type": "code",
      "metadata": {
        "id": "S-wKoyTsjlLE",
        "colab_type": "code",
        "colab": {
          "base_uri": "https://localhost:8080/",
          "height": 50
        },
        "outputId": "4d9bb7f5-abcd-44d2-b2a3-4870cea2f1b6"
      },
      "source": [
        "print(\"Train shape: \", df_train.shape)\n",
        "print(\"Test shape: \", df_test.shape)"
      ],
      "execution_count": 8,
      "outputs": [
        {
          "output_type": "stream",
          "text": [
            "Train shape:  (1306122, 3)\n",
            "Test shape:  (375806, 2)\n"
          ],
          "name": "stdout"
        }
      ]
    },
    {
      "cell_type": "code",
      "metadata": {
        "id": "pfm2hdshjlf6",
        "colab_type": "code",
        "colab": {
          "base_uri": "https://localhost:8080/",
          "height": 195
        },
        "outputId": "fc32e622-2d89-4105-bdb4-96a272ae034c"
      },
      "source": [
        "\n",
        "df_train.head()"
      ],
      "execution_count": 9,
      "outputs": [
        {
          "output_type": "execute_result",
          "data": {
            "text/html": [
              "<div>\n",
              "<style scoped>\n",
              "    .dataframe tbody tr th:only-of-type {\n",
              "        vertical-align: middle;\n",
              "    }\n",
              "\n",
              "    .dataframe tbody tr th {\n",
              "        vertical-align: top;\n",
              "    }\n",
              "\n",
              "    .dataframe thead th {\n",
              "        text-align: right;\n",
              "    }\n",
              "</style>\n",
              "<table border=\"1\" class=\"dataframe\">\n",
              "  <thead>\n",
              "    <tr style=\"text-align: right;\">\n",
              "      <th></th>\n",
              "      <th>qid</th>\n",
              "      <th>question_text</th>\n",
              "      <th>target</th>\n",
              "    </tr>\n",
              "  </thead>\n",
              "  <tbody>\n",
              "    <tr>\n",
              "      <th>0</th>\n",
              "      <td>00002165364db923c7e6</td>\n",
              "      <td>How did Quebec nationalists see their province...</td>\n",
              "      <td>0</td>\n",
              "    </tr>\n",
              "    <tr>\n",
              "      <th>1</th>\n",
              "      <td>000032939017120e6e44</td>\n",
              "      <td>Do you have an adopted dog, how would you enco...</td>\n",
              "      <td>0</td>\n",
              "    </tr>\n",
              "    <tr>\n",
              "      <th>2</th>\n",
              "      <td>0000412ca6e4628ce2cf</td>\n",
              "      <td>Why does velocity affect time? Does velocity a...</td>\n",
              "      <td>0</td>\n",
              "    </tr>\n",
              "    <tr>\n",
              "      <th>3</th>\n",
              "      <td>000042bf85aa498cd78e</td>\n",
              "      <td>How did Otto von Guericke used the Magdeburg h...</td>\n",
              "      <td>0</td>\n",
              "    </tr>\n",
              "    <tr>\n",
              "      <th>4</th>\n",
              "      <td>0000455dfa3e01eae3af</td>\n",
              "      <td>Can I convert montra helicon D to a mountain b...</td>\n",
              "      <td>0</td>\n",
              "    </tr>\n",
              "  </tbody>\n",
              "</table>\n",
              "</div>"
            ],
            "text/plain": [
              "                    qid  ... target\n",
              "0  00002165364db923c7e6  ...      0\n",
              "1  000032939017120e6e44  ...      0\n",
              "2  0000412ca6e4628ce2cf  ...      0\n",
              "3  000042bf85aa498cd78e  ...      0\n",
              "4  0000455dfa3e01eae3af  ...      0\n",
              "\n",
              "[5 rows x 3 columns]"
            ]
          },
          "metadata": {
            "tags": []
          },
          "execution_count": 9
        }
      ]
    },
    {
      "cell_type": "code",
      "metadata": {
        "id": "zbbiiXy_jp9i",
        "colab_type": "code",
        "colab": {
          "base_uri": "https://localhost:8080/",
          "height": 67
        },
        "outputId": "7997764a-8882-4a92-8ed0-c214381a2bfd"
      },
      "source": [
        "df_train.target.value_counts()"
      ],
      "execution_count": 10,
      "outputs": [
        {
          "output_type": "execute_result",
          "data": {
            "text/plain": [
              "0    1225312\n",
              "1      80810\n",
              "Name: target, dtype: int64"
            ]
          },
          "metadata": {
            "tags": []
          },
          "execution_count": 10
        }
      ]
    },
    {
      "cell_type": "code",
      "metadata": {
        "id": "UXOPIKaWjs1e",
        "colab_type": "code",
        "colab": {}
      },
      "source": [
        "re_br = re.compile(r'\\b((bth)|(bluez))([:\\-][0-9a-fA-F]{2}){6}\\b', re.IGNORECASE)\n",
        "def sub_br(x): return re_br.sub(\"\\n\", x)\n",
        "\n",
        "my_tok = spacy.load('en')\n",
        "def spacy_tok(x): return [tok.text for tok in my_tok.tokenizer(sub_br(x))]"
      ],
      "execution_count": 11,
      "outputs": []
    },
    {
      "cell_type": "code",
      "metadata": {
        "id": "EMOD1R-Ijx4H",
        "colab_type": "code",
        "colab": {
          "base_uri": "https://localhost:8080/",
          "height": 252
        },
        "outputId": "99c0b10e-aaa3-48a5-a406-9e4117d70398"
      },
      "source": [
        "text = df_train['question_text'][0]\n",
        "spacy_tok(text)"
      ],
      "execution_count": 12,
      "outputs": [
        {
          "output_type": "execute_result",
          "data": {
            "text/plain": [
              "['How',\n",
              " 'did',\n",
              " 'Quebec',\n",
              " 'nationalists',\n",
              " 'see',\n",
              " 'their',\n",
              " 'province',\n",
              " 'as',\n",
              " 'a',\n",
              " 'nation',\n",
              " 'in',\n",
              " 'the',\n",
              " '1960s',\n",
              " '?']"
            ]
          },
          "metadata": {
            "tags": []
          },
          "execution_count": 12
        }
      ]
    },
    {
      "cell_type": "code",
      "metadata": {
        "id": "64pNKcMMjyLB",
        "colab_type": "code",
        "colab": {}
      },
      "source": [
        "counts = Counter()\n",
        "for q in df_train['question_text']:\n",
        "    counts.update(spacy_tok(q))"
      ],
      "execution_count": 13,
      "outputs": []
    },
    {
      "cell_type": "code",
      "metadata": {
        "id": "CYeoNH7aj0g9",
        "colab_type": "code",
        "colab": {}
      },
      "source": [
        "for word in list(counts):\n",
        "    if counts[word] < 5:\n",
        "        del counts[word]"
      ],
      "execution_count": 14,
      "outputs": []
    },
    {
      "cell_type": "code",
      "metadata": {
        "id": "aii_0vwEj3LF",
        "colab_type": "code",
        "colab": {
          "base_uri": "https://localhost:8080/",
          "height": 34
        },
        "outputId": "3b1e7f85-722f-45fd-c5ea-4a5e17b61b12"
      },
      "source": [
        "len(counts.keys())"
      ],
      "execution_count": 15,
      "outputs": [
        {
          "output_type": "execute_result",
          "data": {
            "text/plain": [
              "57670"
            ]
          },
          "metadata": {
            "tags": []
          },
          "execution_count": 15
        }
      ]
    },
    {
      "cell_type": "code",
      "metadata": {
        "id": "JtScfR2Yj5x6",
        "colab_type": "code",
        "colab": {}
      },
      "source": [
        "vocab2index = {\"\":0, \"UNK\":1}\n",
        "words = [\"\", \"UNK\"]\n",
        "for word in counts:\n",
        "    vocab2index[word] = len(words)\n",
        "    words.append(word)"
      ],
      "execution_count": 16,
      "outputs": []
    },
    {
      "cell_type": "code",
      "metadata": {
        "id": "CKSOMQOgj_Y2",
        "colab_type": "code",
        "colab": {}
      },
      "source": [
        "\n",
        "def encode_sentence(row, vocab2index, N=100, padding_start=True):\n",
        "    words = spacy_tok(row)\n",
        "    enc = np.zeros(N, dtype=np.int32)\n",
        "    enc1 = np.array([vocab2index.get(word, vocab2index[\"UNK\"]) for word in words])\n",
        "    l = min(N, len(enc1))\n",
        "    if padding_start:\n",
        "        enc[:l] = enc1[:l]\n",
        "    else:\n",
        "        enc[N-l:] = enc1[:l]\n",
        "    return enc, l"
      ],
      "execution_count": 17,
      "outputs": []
    },
    {
      "cell_type": "code",
      "metadata": {
        "id": "I0-i-qw3kC7Q",
        "colab_type": "code",
        "colab": {
          "base_uri": "https://localhost:8080/",
          "height": 134
        },
        "outputId": "4d92b211-6f85-4ce3-b33a-499f0e29de82"
      },
      "source": [
        "encode_sentence(df_train['question_text'][0], vocab2index, N=100, padding_start=False)"
      ],
      "execution_count": 18,
      "outputs": [
        {
          "output_type": "execute_result",
          "data": {
            "text/plain": [
              "(array([ 0,  0,  0,  0,  0,  0,  0,  0,  0,  0,  0,  0,  0,  0,  0,  0,  0,\n",
              "         0,  0,  0,  0,  0,  0,  0,  0,  0,  0,  0,  0,  0,  0,  0,  0,  0,\n",
              "         0,  0,  0,  0,  0,  0,  0,  0,  0,  0,  0,  0,  0,  0,  0,  0,  0,\n",
              "         0,  0,  0,  0,  0,  0,  0,  0,  0,  0,  0,  0,  0,  0,  0,  0,  0,\n",
              "         0,  0,  0,  0,  0,  0,  0,  0,  0,  0,  0,  0,  0,  0,  0,  0,  0,\n",
              "         0,  2,  3,  4,  5,  6,  7,  8,  9, 10, 11, 12, 13, 14, 15],\n",
              "       dtype=int32), 14)"
            ]
          },
          "metadata": {
            "tags": []
          },
          "execution_count": 18
        }
      ]
    },
    {
      "cell_type": "code",
      "metadata": {
        "id": "Mjrk1th0kFDY",
        "colab_type": "code",
        "colab": {}
      },
      "source": [
        "x_train_len = np.array([len(q.split()) for q in df_train['question_text']])\n",
        "x_test_len = np.array([len(q.split()) for q in df_test['question_text']])"
      ],
      "execution_count": 19,
      "outputs": []
    },
    {
      "cell_type": "code",
      "metadata": {
        "id": "BeX0Gyb8kHkq",
        "colab_type": "code",
        "colab": {
          "base_uri": "https://localhost:8080/",
          "height": 34
        },
        "outputId": "fc4c7d55-a16d-4b76-8c8d-217ab515103a"
      },
      "source": [
        "\n",
        "x_train_len.max(), x_test_len.max()"
      ],
      "execution_count": 20,
      "outputs": [
        {
          "output_type": "execute_result",
          "data": {
            "text/plain": [
              "(134, 87)"
            ]
          },
          "metadata": {
            "tags": []
          },
          "execution_count": 20
        }
      ]
    },
    {
      "cell_type": "code",
      "metadata": {
        "id": "rzOofvZ9kJ-_",
        "colab_type": "code",
        "colab": {
          "base_uri": "https://localhost:8080/",
          "height": 34
        },
        "outputId": "3585953f-5bf4-4839-ac4f-2bdba97ac69c"
      },
      "source": [
        "\n",
        "# 99 percentile\n",
        "N_train = np.percentile(x_train_len, 99)\n",
        "N_test = np.percentile(x_test_len, 99)\n",
        "\n",
        "N_train, N_test"
      ],
      "execution_count": 21,
      "outputs": [
        {
          "output_type": "execute_result",
          "data": {
            "text/plain": [
              "(39.0, 39.0)"
            ]
          },
          "metadata": {
            "tags": []
          },
          "execution_count": 21
        }
      ]
    },
    {
      "cell_type": "code",
      "metadata": {
        "id": "DlTtDOu_kMLv",
        "colab_type": "code",
        "colab": {}
      },
      "source": [
        "N=40"
      ],
      "execution_count": 22,
      "outputs": []
    },
    {
      "cell_type": "code",
      "metadata": {
        "id": "hnOw33fRkPRI",
        "colab_type": "code",
        "colab": {}
      },
      "source": [
        "train, valid = train_test_split(df_train, test_size=0.2)"
      ],
      "execution_count": 23,
      "outputs": []
    },
    {
      "cell_type": "code",
      "metadata": {
        "id": "SEPe2e_bkPm5",
        "colab_type": "code",
        "colab": {
          "base_uri": "https://localhost:8080/",
          "height": 34
        },
        "outputId": "99a27500-6232-4e6d-fa9c-0c9daa9bb960"
      },
      "source": [
        "train.shape, valid.shape"
      ],
      "execution_count": 24,
      "outputs": [
        {
          "output_type": "execute_result",
          "data": {
            "text/plain": [
              "((1044897, 3), (261225, 3))"
            ]
          },
          "metadata": {
            "tags": []
          },
          "execution_count": 24
        }
      ]
    },
    {
      "cell_type": "code",
      "metadata": {
        "id": "Q2ZX1Zr1kR2C",
        "colab_type": "code",
        "colab": {}
      },
      "source": [
        "class QuoraDataset(Dataset):\n",
        "    def __init__(self, df, vocab2index, is_test=False, N=40, padding_start=True):\n",
        "        self.question = [encode_sentence(q, vocab2index, N, padding_start) for q in df['question_text']]\n",
        "        self.is_test = is_test\n",
        "        if self.is_test:\n",
        "            self.y = None\n",
        "        else:\n",
        "            self.y = list(df[\"target\"])\n",
        "\n",
        "    def __len__(self):\n",
        "        return len(self.y)\n",
        "    \n",
        "    def __getitem__(self, idx):\n",
        "        x, s = self.question[idx]\n",
        "        \n",
        "        if self.is_test:\n",
        "            return x, s\n",
        "        else:\n",
        "            y = self.y[idx]\n",
        "            return x, s, y"
      ],
      "execution_count": 25,
      "outputs": []
    },
    {
      "cell_type": "code",
      "metadata": {
        "id": "9Uwl6O7ukUrc",
        "colab_type": "code",
        "colab": {}
      },
      "source": [
        "\n",
        "train_ds = QuoraDataset(train, vocab2index, N=40, padding_start=False)\n",
        "valid_ds = QuoraDataset(valid, vocab2index, N=40, padding_start=False)"
      ],
      "execution_count": 26,
      "outputs": []
    },
    {
      "cell_type": "code",
      "metadata": {
        "id": "wIQgb-GgkW23",
        "colab_type": "code",
        "colab": {}
      },
      "source": [
        "batch_size = 1000\n",
        "train_dl = DataLoader(train_ds, batch_size=batch_size, shuffle=True)\n",
        "valid_dl = DataLoader(valid_ds, batch_size=batch_size)"
      ],
      "execution_count": 27,
      "outputs": []
    },
    {
      "cell_type": "code",
      "metadata": {
        "id": "udL3xStEkZ69",
        "colab_type": "code",
        "colab": {}
      },
      "source": [
        "batch_size = 7\n",
        "train_dl = DataLoader(train_ds, batch_size=batch_size, shuffle=True)\n",
        "\n",
        "x,s,y = next(iter(train_dl)) # here s is the length of the sent"
      ],
      "execution_count": 28,
      "outputs": []
    },
    {
      "cell_type": "code",
      "metadata": {
        "id": "xjISoLmzkdQC",
        "colab_type": "code",
        "colab": {}
      },
      "source": [
        "\n",
        "vocab_size = len(words)\n",
        "embedding_dim = 10\n",
        "hidden_dim = 9\n",
        "embed = nn.Embedding(vocab_size, embedding_dim, padding_idx=0)\n",
        "lstm1 = nn.LSTM(embedding_dim, hidden_dim, batch_first=True, bidirectional=True)\n",
        "lstm2 = nn.LSTM(embedding_dim, hidden_dim, num_layers=2, batch_first=True, dropout=0.1, bidirectional=True)"
      ],
      "execution_count": 29,
      "outputs": []
    },
    {
      "cell_type": "code",
      "metadata": {
        "id": "xvC3Iyi0kfvh",
        "colab_type": "code",
        "colab": {}
      },
      "source": [
        "s, index = s.sort(0, descending=True)\n",
        "x = x[index]\n",
        "x = embed(x.long())\n",
        "x_pack = pack_padded_sequence(x, list(s), batch_first=True)"
      ],
      "execution_count": 30,
      "outputs": []
    },
    {
      "cell_type": "code",
      "metadata": {
        "id": "h4YgjgUfkie1",
        "colab_type": "code",
        "colab": {}
      },
      "source": [
        "class LSTMBiModel(torch.nn.Module) :\n",
        "    def __init__(self, vocab_size, embedding_dim, hidden_dim) :\n",
        "        super(LSTMBiModel,self).__init__()\n",
        "        self.hidden_dim = hidden_dim\n",
        "        self.embeddings = nn.Embedding(vocab_size, embedding_dim, padding_idx=0)\n",
        "        self.lstm = nn.LSTM(embedding_dim, hidden_dim, num_layers=2, batch_first=True,\n",
        "                            dropout=0.3, bidirectional=True)\n",
        "        self.linear = nn.Linear(2*hidden_dim, 1)\n",
        "        \n",
        "    def forward(self, x, s):\n",
        "        s, sort_index = torch.sort(s, 0,descending=True)\n",
        "        s = s.numpy().tolist()\n",
        "        x = x[sort_index]\n",
        "        x = self.embeddings(x)\n",
        "        x_pack = pack_padded_sequence(x, s, batch_first=True)\n",
        "        out_pack, (ht, ct) = self.lstm(x_pack)\n",
        "        h = torch.cat((ht[-2,:,:], ht[-1,:,:]), dim = 1)\n",
        "        h = self.linear(h)\n",
        "        return torch.zeros_like(h).scatter_(0, sort_index.unsqueeze(1), h)"
      ],
      "execution_count": 31,
      "outputs": []
    },
    {
      "cell_type": "code",
      "metadata": {
        "id": "PNcZi5T0klKP",
        "colab_type": "code",
        "colab": {}
      },
      "source": [
        "def train_epocs(model, epochs=10, lr=0.001):\n",
        "    parameters = filter(lambda p: p.requires_grad, model.parameters())\n",
        "    optimizer = torch.optim.Adam(parameters, lr=lr)\n",
        "    for i in range(epochs):\n",
        "        model.train()\n",
        "        sum_loss = 0.0\n",
        "        total = 0\n",
        "        for x, s, y in train_dl:\n",
        "            x = x.long()\n",
        "            y = y.float()\n",
        "            y_pred = model(x, s)\n",
        "            optimizer.zero_grad()\n",
        "            loss = F.binary_cross_entropy_with_logits(y_pred, y.unsqueeze(1))\n",
        "            loss.backward()\n",
        "            optimizer.step()\n",
        "            sum_loss += loss.item()*y.shape[0]\n",
        "            total += y.shape[0]\n",
        "        val_loss, val_acc = val_metrics(model, valid_dl)\n",
        "        if i % 5 == 1:\n",
        "            print(\"train loss %.3f val loss %.3f and val accuracy %.3f\" % (sum_loss/total, val_loss, val_acc))"
      ],
      "execution_count": 32,
      "outputs": []
    },
    {
      "cell_type": "code",
      "metadata": {
        "id": "RiAo0z0lkoFs",
        "colab_type": "code",
        "colab": {}
      },
      "source": [
        "def val_metrics(model, valid_dl):\n",
        "    model.eval()\n",
        "    correct = 0\n",
        "    total = 0\n",
        "    sum_loss = 0.0\n",
        "    for x, s, y in valid_dl:\n",
        "        x = x.long()\n",
        "        y = y.float().unsqueeze(1)\n",
        "        y_hat = model(x, s)\n",
        "        loss = F.binary_cross_entropy_with_logits(y_hat, y)\n",
        "        y_pred = y_hat > 0\n",
        "        correct += (y_pred.float() == y).float().sum()\n",
        "        total += y.shape[0]\n",
        "        sum_loss += loss.item()*y.shape[0]\n",
        "    return sum_loss/total, correct/total"
      ],
      "execution_count": 33,
      "outputs": []
    },
    {
      "cell_type": "code",
      "metadata": {
        "id": "ATanzx4nksKl",
        "colab_type": "code",
        "colab": {}
      },
      "source": [
        "vocab_size = len(words)\n",
        "model2 = LSTMBiModel(vocab_size, 50, 50)"
      ],
      "execution_count": 34,
      "outputs": []
    },
    {
      "cell_type": "code",
      "metadata": {
        "id": "yFUPsZy5pRlV",
        "colab_type": "code",
        "colab": {}
      },
      "source": [
        "train_epocs(model2, epochs=5, lr=0.01)"
      ],
      "execution_count": null,
      "outputs": []
    },
    {
      "cell_type": "code",
      "metadata": {
        "id": "PBiKvAKK_f81",
        "colab_type": "code",
        "colab": {}
      },
      "source": [
        "val_metrics(model2, valid_dl)"
      ],
      "execution_count": null,
      "outputs": []
    }
  ]
}